{
  "nbformat": 4,
  "nbformat_minor": 0,
  "metadata": {
    "colab": {
      "name": "w2v_classificadores.ipynb",
      "provenance": [],
      "collapsed_sections": []
    },
    "kernelspec": {
      "name": "python3",
      "display_name": "Python 3"
    }
  },
  "cells": [
    {
      "cell_type": "markdown",
      "metadata": {
        "id": "ouNorXW4H6yO"
      },
      "source": [
        "# *Classificador*"
      ]
    },
    {
      "cell_type": "markdown",
      "metadata": {
        "id": "-b2k-kZxpwl-"
      },
      "source": [
        "- Download do modelo em Portugues"
      ]
    },
    {
      "cell_type": "code",
      "metadata": {
        "colab": {
          "base_uri": "https://localhost:8080/"
        },
        "id": "ZEqlMJbfIP8J",
        "outputId": "b581c7e5-e465-4808-cf66-543500da7952"
      },
      "source": [
        "!python -m spacy download pt_core_news_sm"
      ],
      "execution_count": null,
      "outputs": [
        {
          "output_type": "stream",
          "text": [
            "Collecting pt_core_news_sm==2.2.5\n",
            "\u001b[?25l  Downloading https://github.com/explosion/spacy-models/releases/download/pt_core_news_sm-2.2.5/pt_core_news_sm-2.2.5.tar.gz (21.2MB)\n",
            "\u001b[K     |████████████████████████████████| 21.2MB 1.2MB/s \n",
            "\u001b[?25hRequirement already satisfied: spacy>=2.2.2 in /usr/local/lib/python3.6/dist-packages (from pt_core_news_sm==2.2.5) (2.2.4)\n",
            "Requirement already satisfied: thinc==7.4.0 in /usr/local/lib/python3.6/dist-packages (from spacy>=2.2.2->pt_core_news_sm==2.2.5) (7.4.0)\n",
            "Requirement already satisfied: blis<0.5.0,>=0.4.0 in /usr/local/lib/python3.6/dist-packages (from spacy>=2.2.2->pt_core_news_sm==2.2.5) (0.4.1)\n",
            "Requirement already satisfied: srsly<1.1.0,>=1.0.2 in /usr/local/lib/python3.6/dist-packages (from spacy>=2.2.2->pt_core_news_sm==2.2.5) (1.0.5)\n",
            "Requirement already satisfied: catalogue<1.1.0,>=0.0.7 in /usr/local/lib/python3.6/dist-packages (from spacy>=2.2.2->pt_core_news_sm==2.2.5) (1.0.0)\n",
            "Requirement already satisfied: numpy>=1.15.0 in /usr/local/lib/python3.6/dist-packages (from spacy>=2.2.2->pt_core_news_sm==2.2.5) (1.19.4)\n",
            "Requirement already satisfied: preshed<3.1.0,>=3.0.2 in /usr/local/lib/python3.6/dist-packages (from spacy>=2.2.2->pt_core_news_sm==2.2.5) (3.0.5)\n",
            "Requirement already satisfied: plac<1.2.0,>=0.9.6 in /usr/local/lib/python3.6/dist-packages (from spacy>=2.2.2->pt_core_news_sm==2.2.5) (1.1.3)\n",
            "Requirement already satisfied: wasabi<1.1.0,>=0.4.0 in /usr/local/lib/python3.6/dist-packages (from spacy>=2.2.2->pt_core_news_sm==2.2.5) (0.8.0)\n",
            "Requirement already satisfied: tqdm<5.0.0,>=4.38.0 in /usr/local/lib/python3.6/dist-packages (from spacy>=2.2.2->pt_core_news_sm==2.2.5) (4.41.1)\n",
            "Requirement already satisfied: murmurhash<1.1.0,>=0.28.0 in /usr/local/lib/python3.6/dist-packages (from spacy>=2.2.2->pt_core_news_sm==2.2.5) (1.0.5)\n",
            "Requirement already satisfied: cymem<2.1.0,>=2.0.2 in /usr/local/lib/python3.6/dist-packages (from spacy>=2.2.2->pt_core_news_sm==2.2.5) (2.0.5)\n",
            "Requirement already satisfied: setuptools in /usr/local/lib/python3.6/dist-packages (from spacy>=2.2.2->pt_core_news_sm==2.2.5) (51.0.0)\n",
            "Requirement already satisfied: requests<3.0.0,>=2.13.0 in /usr/local/lib/python3.6/dist-packages (from spacy>=2.2.2->pt_core_news_sm==2.2.5) (2.23.0)\n",
            "Requirement already satisfied: importlib-metadata>=0.20; python_version < \"3.8\" in /usr/local/lib/python3.6/dist-packages (from catalogue<1.1.0,>=0.0.7->spacy>=2.2.2->pt_core_news_sm==2.2.5) (3.3.0)\n",
            "Requirement already satisfied: idna<3,>=2.5 in /usr/local/lib/python3.6/dist-packages (from requests<3.0.0,>=2.13.0->spacy>=2.2.2->pt_core_news_sm==2.2.5) (2.10)\n",
            "Requirement already satisfied: chardet<4,>=3.0.2 in /usr/local/lib/python3.6/dist-packages (from requests<3.0.0,>=2.13.0->spacy>=2.2.2->pt_core_news_sm==2.2.5) (3.0.4)\n",
            "Requirement already satisfied: urllib3!=1.25.0,!=1.25.1,<1.26,>=1.21.1 in /usr/local/lib/python3.6/dist-packages (from requests<3.0.0,>=2.13.0->spacy>=2.2.2->pt_core_news_sm==2.2.5) (1.24.3)\n",
            "Requirement already satisfied: certifi>=2017.4.17 in /usr/local/lib/python3.6/dist-packages (from requests<3.0.0,>=2.13.0->spacy>=2.2.2->pt_core_news_sm==2.2.5) (2020.12.5)\n",
            "Requirement already satisfied: zipp>=0.5 in /usr/local/lib/python3.6/dist-packages (from importlib-metadata>=0.20; python_version < \"3.8\"->catalogue<1.1.0,>=0.0.7->spacy>=2.2.2->pt_core_news_sm==2.2.5) (3.4.0)\n",
            "Requirement already satisfied: typing-extensions>=3.6.4; python_version < \"3.8\" in /usr/local/lib/python3.6/dist-packages (from importlib-metadata>=0.20; python_version < \"3.8\"->catalogue<1.1.0,>=0.0.7->spacy>=2.2.2->pt_core_news_sm==2.2.5) (3.7.4.3)\n",
            "Building wheels for collected packages: pt-core-news-sm\n",
            "  Building wheel for pt-core-news-sm (setup.py) ... \u001b[?25l\u001b[?25hdone\n",
            "  Created wheel for pt-core-news-sm: filename=pt_core_news_sm-2.2.5-cp36-none-any.whl size=21186283 sha256=075f2e9365e89fb6a9973e9c22d26c03e0f790d29f030cf2ad9e7d69072599e2\n",
            "  Stored in directory: /tmp/pip-ephem-wheel-cache-sb0k2_jp/wheels/ea/94/74/ec9be8418e9231b471be5dc7e1b45dd670019a376a6b5bc1c0\n",
            "Successfully built pt-core-news-sm\n",
            "Installing collected packages: pt-core-news-sm\n",
            "Successfully installed pt-core-news-sm-2.2.5\n",
            "\u001b[38;5;2m✔ Download and installation successful\u001b[0m\n",
            "You can now load the model via spacy.load('pt_core_news_sm')\n"
          ],
          "name": "stdout"
        }
      ]
    },
    {
      "cell_type": "markdown",
      "metadata": {
        "id": "fEPA53QfIdb3"
      },
      "source": [
        "Vetorização de texto\n",
        "\n",
        "- recebe um texto e retorna uma lista de token. \n",
        "- criar uma vetorização indivisual"
      ]
    },
    {
      "cell_type": "code",
      "metadata": {
        "id": "fBvmtW71LF-Z"
      },
      "source": [
        "import spacy\n",
        "import numpy as np\n",
        "import pandas as pd\n",
        "from gensim.models import KeyedVectors\n",
        "\n",
        "w2v_modelo_cbow = KeyedVectors.load_word2vec_format(\"/content/drive/MyDrive/word2ver/modelo_cbow.txt\")\n",
        "w2v_modelo_sg = KeyedVectors.load_word2vec_format(\"/content/drive/MyDrive/word2ver/modelo_skipgram.txt\")\n",
        "\n",
        "artigo_treino= pd.read_csv(\"/content/drive/MyDrive/word2ver/treino.csv\")\n",
        "artigo_teste= pd.read_csv(\"/content/drive/MyDrive/word2ver/teste.csv\")\n",
        "\n"
      ],
      "execution_count": null,
      "outputs": []
    },
    {
      "cell_type": "markdown",
      "metadata": {
        "id": "U2gi2lVBpanX"
      },
      "source": [
        "## Pré-processamento\n",
        "\n",
        "Remove os stop words e caracteres não alfabéticos e deixando palavras em minúsculo, retornando exatamente o que foi solicitado."
      ]
    },
    {
      "cell_type": "code",
      "metadata": {
        "colab": {
          "base_uri": "https://localhost:8080/"
        },
        "id": "nb2itCemJemK",
        "outputId": "ca067159-0ec8-4dd8-a3c7-06cb8a7f20e1"
      },
      "source": [
        "# pipeline\n",
        "\n",
        "nlp = spacy.load(\"pt_core_news_sm\", disable=[\"paser\", \"ner\", \"tagger\", \"textcat\"]) # não é necessário alguns pré-processamentos\n",
        "\n",
        "def tokenizador(texto): #função adaptada para tokinizador\n",
        "  \n",
        "  doc = nlp(texto)\n",
        "  tokens_validos = []\n",
        "  for token in doc:\n",
        "    e_valido = not token.is_stop and token.is_alpha # verifica se o token é valido \n",
        "    if e_valido:\n",
        "      tokens_validos.append(token.text.lower())\n",
        "\n",
        "  return tokens_validos\n",
        "\n",
        "\n",
        "texto = \"Rio de Janeiro 1212122 c****é uma cidade maravilhosa!\" # teste\n",
        "\n",
        "tokens = tokenizador(texto)\n",
        "print(tokens)"
      ],
      "execution_count": null,
      "outputs": [
        {
          "output_type": "stream",
          "text": [
            "['rio', 'janeiro', 'cidade', 'maravilhosa']\n"
          ],
          "name": "stdout"
        }
      ]
    },
    {
      "cell_type": "markdown",
      "metadata": {
        "id": "RuBFki5yMNPW"
      },
      "source": [
        "Combinação de vetorores"
      ]
    },
    {
      "cell_type": "code",
      "metadata": {
        "id": "aUIU0IpYJOy0",
        "colab": {
          "base_uri": "https://localhost:8080/"
        },
        "outputId": "4b8bde1b-f804-4cd1-da76-bdb176dea38b"
      },
      "source": [
        "def combinacao_de_vetores_por_soma(palavras, modelo):\n",
        "\n",
        "    vetor_resultante = np.zeros(300)\n",
        "\n",
        "    for pn in palavras:\n",
        "        try:\n",
        "            vetor_resultante += modelo.get_vector(pn)\n",
        "\n",
        "        except KeyError:\n",
        "            pass # errou bola pra frente rs\n",
        "\n",
        "    return vetor_resultante\n",
        "\n",
        "#teste\n",
        "vetor_texto = combinacao_de_vetores_por_soma(tokens, w2v_modelo_cbow)\n",
        "print(vetor_texto.shape)\n",
        "print(vetor_texto)"
      ],
      "execution_count": null,
      "outputs": [
        {
          "output_type": "stream",
          "text": [
            "(300,)\n",
            "[ 2.48783135e+00  6.93557234e-01  1.47610006e+00 -5.23369528e-01\n",
            "  2.85388979e+00  2.47088224e+00 -1.05546229e+00 -2.66558081e-01\n",
            "  2.15231224e+00 -1.99439583e+00 -2.31663816e+00 -4.98498887e-01\n",
            "  1.89665854e-01  1.03707394e+00 -1.07846737e+00  3.25014181e-01\n",
            " -4.01880398e-01 -7.08095433e-01 -8.95570785e-01 -2.81728798e+00\n",
            " -1.70187348e+00  3.40880272e+00 -6.24393374e-02 -1.99704210e+00\n",
            " -2.28661652e+00  2.53879085e-01  2.45454830e+00 -2.36154789e+00\n",
            " -1.08460143e+00  3.17483291e-01 -1.33512139e+00  5.04100740e-01\n",
            " -6.91189736e-01  6.49076641e-01  2.28803528e+00 -8.15818250e-01\n",
            "  1.46883067e+00  1.09723333e+00 -8.42743069e-01  1.57012936e-01\n",
            "  9.64347839e-01  1.36279438e+00  1.76930012e+00  9.29067584e-01\n",
            "  3.73866349e+00  1.71907419e+00  1.25131183e+00 -1.75918967e-01\n",
            "  2.81676245e+00 -2.72921652e-01  1.67302340e-01 -9.19192145e-01\n",
            " -3.83567190e+00 -1.63536172e+00  5.61754334e-01 -4.13346913e-01\n",
            " -9.96637508e-01  5.13449609e-02 -1.38834625e+00 -4.02037070e-01\n",
            " -6.74634829e-01  1.85364300e+00 -5.96774951e-01 -1.92146930e+00\n",
            "  1.63642718e+00 -1.16468275e+00  3.42215809e+00  2.47038629e+00\n",
            "  2.05817609e+00 -1.64247772e+00 -1.48454922e+00 -8.54317769e-02\n",
            "  1.91970982e+00 -1.30771424e+00  8.70361432e-01 -8.70774388e-02\n",
            " -1.99034722e+00 -9.81678121e-01 -7.20302999e-01  6.39289908e-01\n",
            " -3.58475924e-01  1.43413723e+00 -1.98764056e+00  7.58547127e-01\n",
            " -1.95763236e+00  3.49883586e-01  7.46729821e-01  2.48944773e+00\n",
            " -6.64953604e-01  1.01947147e+00  2.22320952e-01  3.99922317e+00\n",
            "  1.50787421e+00  1.69289844e+00  1.15341260e+00 -9.47397172e-01\n",
            " -3.06156403e+00  1.88528998e+00 -5.17996550e-02 -3.16435408e-01\n",
            "  1.85092518e+00  1.25516316e+00 -5.10866729e-01 -1.15785946e+00\n",
            " -1.84642129e+00 -2.05920522e+00  1.13446012e+00  1.96193764e+00\n",
            " -4.31231439e+00 -1.45459190e+00  1.67050892e+00 -1.17570333e+00\n",
            "  3.58986218e+00 -1.06840461e+00 -1.60664647e+00 -1.65005082e+00\n",
            "  4.63770255e-02 -2.46234536e+00  1.18139195e+00  1.60759617e-01\n",
            "  5.41564524e-01 -1.25296772e-01  2.14982823e+00 -1.01151549e+00\n",
            "  5.43268323e-02  1.38211198e+00 -8.45757276e-01 -9.38873633e-01\n",
            " -7.61275133e-02 -1.78546646e+00 -8.12173411e-01  1.93523831e+00\n",
            " -1.49054073e-01 -4.04509991e-01 -2.29277615e-01 -2.40280900e-01\n",
            "  2.65330285e-01  3.09827334e+00  2.64950195e+00 -2.14281511e+00\n",
            " -1.83300819e+00  2.25360706e+00  4.21433076e-01  2.96207738e+00\n",
            " -1.65884311e+00  3.33120644e-01 -1.47583255e+00 -3.77693349e+00\n",
            " -4.92752932e-01 -1.40654391e+00  4.12658805e+00  7.74126709e-01\n",
            " -6.23199344e-01 -1.65739121e+00  1.17299644e+00  3.41692746e-01\n",
            "  1.51532197e+00  1.64258581e+00  1.27790742e+00  1.29512846e-01\n",
            " -1.24534518e-01 -1.59957674e+00 -2.23183334e+00 -2.89074033e-01\n",
            " -8.73296492e-01 -8.39860946e-01  1.22997418e+00 -1.67404924e+00\n",
            " -1.65630882e+00 -1.64229188e+00 -9.98208195e-01  1.81106684e+00\n",
            "  4.94484894e-01  2.46922470e+00 -1.64411509e+00 -9.54869479e-01\n",
            " -1.24688474e+00 -8.17023635e-01 -1.45622316e+00  5.43636322e-01\n",
            " -7.29936656e-01 -3.47297108e-01 -1.94936836e+00  1.15496992e+00\n",
            "  8.75271432e-01 -2.30411130e+00 -3.50985169e-01  1.56246895e+00\n",
            "  2.58964270e+00 -3.25081795e-01 -2.60447517e+00 -1.93329674e+00\n",
            " -3.17567027e-01  2.06228556e+00  2.23836303e-03  4.04386349e-01\n",
            " -1.90657598e+00 -4.86434173e-01  1.22758237e+00 -1.93445095e-01\n",
            " -1.31518233e+00 -4.81781028e-01 -1.43927550e+00  6.84488744e-01\n",
            "  3.64942765e+00  4.68439868e+00 -7.76498227e-01 -6.19665831e-01\n",
            "  1.47049257e+00  1.29913330e+00 -2.26203099e-01  4.08631793e+00\n",
            "  4.32109162e-01  9.19109762e-01 -5.94449416e-01 -2.13713706e-01\n",
            "  2.90954989e+00 -1.02431455e+00  8.50339115e-01 -1.19993515e+00\n",
            "  9.86575224e-01 -5.36289662e-01  2.41278982e+00  1.16921059e+00\n",
            "  2.41366386e-01  4.87542510e-01 -1.75596088e+00  4.99069870e-01\n",
            "  1.80078143e+00 -7.50035323e-01 -4.22266805e+00  1.86045557e+00\n",
            "  5.73855668e-01 -1.72415137e+00  2.65508190e+00  1.83865690e+00\n",
            "  2.40450021e-01  8.24175596e-01  3.22411537e-01 -1.39826466e+00\n",
            " -4.88275111e-01 -1.10705316e+00  1.16844347e+00  2.50282847e-01\n",
            " -1.37256947e+00 -1.65796699e+00  1.32069868e+00  7.26579428e-02\n",
            " -4.32869470e+00 -3.85897326e+00  6.48216337e-01 -2.64725095e+00\n",
            "  7.32853144e-01 -7.08259776e-01  1.66320987e+00 -1.55299968e+00\n",
            "  9.88949895e-01  2.08687484e+00 -3.04036945e-01 -1.23129354e+00\n",
            " -1.25404879e+00  9.37322229e-01 -4.30938810e-01 -1.10269065e+00\n",
            " -6.69375509e-01 -4.19658065e-01 -7.58115947e-01 -1.82539216e+00\n",
            " -9.14683938e-03  2.57074955e+00  1.22540791e+00  9.53338444e-01\n",
            " -1.04613303e+00 -1.01805933e+00 -5.39501876e-01  2.33759504e-01\n",
            "  5.87663710e-01  1.52798015e+00 -4.07132381e-01  2.02962527e+00\n",
            " -6.69149160e-02 -2.86647886e-01  1.03397161e-01  7.76759952e-01\n",
            " -2.54338378e+00 -3.77307490e-01  2.95220137e-01  1.60415190e+00\n",
            "  1.05249059e+00 -1.33456618e+00  9.78588641e-01 -1.11367350e+00\n",
            " -3.71993127e+00  2.94369368e+00  3.53610128e-01  1.13235146e-01\n",
            " -1.54881728e+00 -3.41898302e-01 -2.15996876e-01 -3.15467753e-01]\n"
          ],
          "name": "stdout"
        }
      ]
    },
    {
      "cell_type": "markdown",
      "metadata": {
        "id": "cSonzRXWPkXO"
      },
      "source": [
        "Vetorização"
      ]
    },
    {
      "cell_type": "code",
      "metadata": {
        "id": "3VAesy0AH3Pq",
        "colab": {
          "base_uri": "https://localhost:8080/"
        },
        "outputId": "19f84fa5-dfc4-4925-e36e-f0ab4d60b6c8"
      },
      "source": [
        "def matriz_vetores(textos, modelo):\n",
        "    x = len(textos)\n",
        "    y = 300 #colunas/dimensões\n",
        "    matriz = np.zeros((x,y))\n",
        "\n",
        "    for i in range(x):\n",
        "        palavras = tokenizador(textos.iloc[i])\n",
        "        matriz[i] = combinacao_de_vetores_por_soma(palavras, modelo)\n",
        "\n",
        "    return matriz\n",
        "\n",
        "matriz_vetores_treino_cbow = matriz_vetores(artigo_treino.title, w2v_modelo_cbow)\n",
        "matriz_vetores_teste_cbow = matriz_vetores(artigo_teste.title, w2v_modelo_cbow)\n",
        "print(matriz_vetores_treino_cbow.shape)\n",
        "print(matriz_vetores_teste_cbow.shape)"
      ],
      "execution_count": null,
      "outputs": [
        {
          "output_type": "stream",
          "text": [
            "(90000, 300)\n",
            "(20513, 300)\n"
          ],
          "name": "stdout"
        }
      ]
    },
    {
      "cell_type": "markdown",
      "metadata": {
        "id": "zLXVmmhr-ySo"
      },
      "source": [
        "Classificação\n",
        "\n"
      ]
    },
    {
      "cell_type": "code",
      "metadata": {
        "colab": {
          "base_uri": "https://localhost:8080/"
        },
        "id": "jqq_BdWs68tW",
        "outputId": "9b8e0c67-f12e-4198-f960-671fb617abfb"
      },
      "source": [
        "from sklearn.linear_model import LogisticRegression\n",
        "from sklearn.metrics import classification_report\n",
        "\n",
        "def classificador(modelo, x_treino, y_treino, x_teste, y_teste):\n",
        "\n",
        "      RL = LogisticRegression(max_iter = 800)\n",
        "      RL.fit(x_treino, y_treino)\n",
        "      categorias = RL.predict(x_teste)\n",
        "      resultados = classification_report(y_teste, categorias)\n",
        "      print(resultados)\n",
        "\n",
        "      return RL\n",
        "\n",
        "RL_cbow = classificador(w2v_modelo_cbow,\n",
        "                        matriz_vetores_treino_cbow,\n",
        "                        artigo_treino.category,\n",
        "                        matriz_vetores_teste_cbow,\n",
        "                        artigo_teste.category)"
      ],
      "execution_count": null,
      "outputs": [
        {
          "output_type": "stream",
          "text": [
            "              precision    recall  f1-score   support\n",
            "\n",
            "     colunas       0.81      0.71      0.76      6103\n",
            "   cotidiano       0.63      0.80      0.71      1698\n",
            "     esporte       0.93      0.86      0.89      4663\n",
            "   ilustrada       0.13      0.85      0.23       131\n",
            "     mercado       0.84      0.78      0.81      5867\n",
            "       mundo       0.74      0.83      0.78      2051\n",
            "\n",
            "    accuracy                           0.79     20513\n",
            "   macro avg       0.68      0.81      0.69     20513\n",
            "weighted avg       0.82      0.79      0.80     20513\n",
            "\n"
          ],
          "name": "stdout"
        }
      ]
    },
    {
      "cell_type": "code",
      "metadata": {
        "colab": {
          "base_uri": "https://localhost:8080/"
        },
        "id": "1hJVCd9u9NqO",
        "outputId": "ab77bba6-f09e-4aae-b2fd-9cc8ed9a02f8"
      },
      "source": [
        "matriz_vetores_treino_sg = matriz_vetores(artigo_treino.title, w2v_modelo_sg)\n",
        "matriz_vetores_teste_sg = matriz_vetores(artigo_teste.title, w2v_modelo_sg)\n",
        "\n",
        "RL_sg = classificador(w2v_modelo_sg,\n",
        "                        matriz_vetores_treino_sg,\n",
        "                        artigo_treino.category,\n",
        "                        matriz_vetores_teste_sg,\n",
        "                        artigo_teste.category)"
      ],
      "execution_count": null,
      "outputs": [
        {
          "output_type": "stream",
          "text": [
            "              precision    recall  f1-score   support\n",
            "\n",
            "     colunas       0.81      0.71      0.76      6103\n",
            "   cotidiano       0.64      0.81      0.72      1698\n",
            "     esporte       0.94      0.88      0.90      4663\n",
            "   ilustrada       0.14      0.89      0.25       131\n",
            "     mercado       0.84      0.79      0.82      5867\n",
            "       mundo       0.75      0.84      0.79      2051\n",
            "\n",
            "    accuracy                           0.79     20513\n",
            "   macro avg       0.69      0.82      0.71     20513\n",
            "weighted avg       0.82      0.79      0.80     20513\n",
            "\n"
          ],
          "name": "stdout"
        }
      ]
    },
    {
      "cell_type": "markdown",
      "metadata": {
        "id": "Q6R1FpXzBCOJ"
      },
      "source": [
        "Importanto o modelo"
      ]
    },
    {
      "cell_type": "code",
      "metadata": {
        "id": "AjzJUe0qA_Jh"
      },
      "source": [
        "import pickle\n",
        "\n",
        "with open(\"/content/drive/MyDrive/word2ver/rl_cbow.pkl\",\"wb\") as f:\n",
        "  pickle.dump(RL_cbow, f)\n"
      ],
      "execution_count": null,
      "outputs": []
    },
    {
      "cell_type": "code",
      "metadata": {
        "id": "jrTw795tBiD6"
      },
      "source": [
        "with open(\"/content/drive/MyDrive/word2ver/rl_sg.pkl\",\"wb\") as f:\n",
        "  pickle.dump(RL_sg, f)"
      ],
      "execution_count": null,
      "outputs": []
    }
  ]
}